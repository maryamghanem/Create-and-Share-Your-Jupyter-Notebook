{
  "cells": [
    {
      "cell_type": "markdown",
      "id": "525bf4fb-a984-4bf2-b765-066a43e79174",
      "metadata": {},
      "source": [
        "# Data Science Tools and Ecosystem"
      ]
    },
    {
      "cell_type": "markdown",
      "id": "5f79006c-7a44-4c60-97aa-2e65be5e5d6c",
      "metadata": {},
      "source": [
        "In this notebook, Data Science Tools and Ecosystem are summarized."
      ]
    },
    {
      "cell_type": "markdown",
      "id": "690cbb16-a43b-4f44-8926-4ba2d3379ac3",
      "metadata": {},
      "source": [
        "**Objectives:**\n",
        "* Describe the components of a Data Scientist's toolkit and list various tool categories.\n",
        "* Identify the criteria and roles for determining the language to learn.\n",
        "* List the tasks that a data scientist needs to perform to build a model.\n",
        "* Describe how to use the notebooks in JupyterLab.\n",
        "* Describe R capabilities and RStudio environment."
      ]
    },
    {
      "cell_type": "markdown",
      "id": "46838727-ffa7-426b-a2f9-9a2b5a340d80",
      "metadata": {},
      "source": [
        "Some of the popular languages that Data Scientists use are:\n",
        "1. Python\n",
        "2. R\n",
        "3. SQL\n",
        "4. Java"
      ]
    },
    {
      "cell_type": "markdown",
      "id": "98dce020-7a9a-4a08-bb3d-1e0d36ca9589",
      "metadata": {},
      "source": [
        "Some of the commonly used libraries used by Data Scientists include:\n",
        "1. NumPy\n",
        "2. Keras\n",
        "3. Pandas\n",
        "4. PyTorch"
      ]
    },
    {
      "cell_type": "markdown",
      "id": "b93d2e60-824d-40dc-9151-fd1c7c3cdcff",
      "metadata": {},
      "source": [
        "| Data Science Tools      |\n",
        "|--------------------------|\n",
        "| Anaconda                 |\n",
        "| Jupyter Notebook         |\n",
        "| Google Colab             |"
      ]
    },
    {
      "cell_type": "markdown",
      "id": "d75a187d-d055-4a3f-9cca-88792bf1bd89",
      "metadata": {},
      "source": [
        "### Below are a few examples of evaluating arithmetic expressions in Python."
      ]
    },
    {
      "cell_type": "code",
      "execution_count": 2,
      "id": "d0c366ee-f17a-4ec8-bf75-955bb2edb775",
      "metadata": {
        "trusted": true
      },
      "outputs": [
        {
          "name": "stdout",
          "output_type": "stream",
          "text": [
            "17\n"
          ]
        }
      ],
      "source": [
        "# This a simple arithmetic expression to multiply then add integers.\n",
        "print((3*4)+5)"
      ]
    },
    {
      "cell_type": "code",
      "execution_count": 3,
      "id": "f5f472ee-2ca8-4313-905e-a970c1db9862",
      "metadata": {
        "trusted": true
      },
      "outputs": [
        {
          "name": "stdout",
          "output_type": "stream",
          "text": [
            "3.3333333333333335\n"
          ]
        }
      ],
      "source": [
        "# This will convert 200 minutes to hours by dividing by 60\n",
        "hours = 200 / 60\n",
        "print(hours)"
      ]
    },
    {
      "cell_type": "markdown",
      "id": "a5b6458e-2157-48d3-b572-1882d827e54e",
      "metadata": {},
      "source": [
        "## Author ##\n",
        "Maryam\n"
      ]
    }
  ],
  "metadata": {
    "kernelspec": {
      "display_name": "Python (Pyodide)",
      "language": "python",
      "name": "python"
    },
    "language_info": {
      "codemirror_mode": {
        "name": "python",
        "version": 3
      },
      "file_extension": ".py",
      "mimetype": "text/x-python",
      "name": "python",
      "nbconvert_exporter": "python",
      "pygments_lexer": "ipython3",
      "version": "3.8"
    }
  },
  "nbformat": 4,
  "nbformat_minor": 5
}
